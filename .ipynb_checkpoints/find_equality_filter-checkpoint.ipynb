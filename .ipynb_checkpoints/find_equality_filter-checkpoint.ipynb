{
 "cells": [
  {
   "cell_type": "code",
   "execution_count": null,
   "metadata": {},
   "outputs": [],
   "source": [
    "import pymongo\n",
    "from pymongo import MongoClient\n",
    "import pprint\n",
    "import re\n",
    "from IPython.display import clear_output\n",
    "\n",
    "# Replace XXXX with your connection URI from the Atlas UI\n",
    "client = MongoClient(XXXX)\n",
    "\n",
    "filter = {'language': 'Korean, English'}\n",
    "\n",
    "clear_output()\n",
    "pprint.pprint(list(client.mflix.movies_initial.find(filter)))"
   ]
  }
 ],
 "metadata": {
  "kernelspec": {
   "display_name": "Python 3 (ipykernel)",
   "language": "python",
   "name": "python3"
  },
  "language_info": {
   "codemirror_mode": {
    "name": "ipython",
    "version": 3
   },
   "file_extension": ".py",
   "mimetype": "text/x-python",
   "name": "python",
   "nbconvert_exporter": "python",
   "pygments_lexer": "ipython3",
   "version": "3.9.7"
  }
 },
 "nbformat": 4,
 "nbformat_minor": 2
}
