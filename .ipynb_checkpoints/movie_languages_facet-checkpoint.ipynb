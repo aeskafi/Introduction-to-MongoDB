{
 "cells": [
  {
   "cell_type": "code",
   "execution_count": null,
   "metadata": {},
   "outputs": [],
   "source": [
    "import pymongo\n",
    "from collections import OrderedDict\n",
    "from pymongo import MongoClient\n",
    "import pprint\n",
    "from IPython.display import clear_output\n",
    "\n",
    "# Replace XXXX with your connection URI from the Atlas UI\n",
    "client = MongoClient(XXXX)\n",
    "\n",
    "pipeline = [\n",
    "    {\n",
    "        '$sortByCount': \"$language\"\n",
    "    },\n",
    "    {\n",
    "        '$facet': {\n",
    "            'top language combinations': [{'$limit': 100}],\n",
    "            'unusual combinations shared by': [{\n",
    "                '$skip': 100\n",
    "            },\n",
    "            {\n",
    "                '$bucketAuto': {\n",
    "                    'groupBy': \"$count\",\n",
    "                    'buckets': 5,\n",
    "                    'output': {\n",
    "                        'language combinations': {'$sum': 1}\n",
    "                    }\n",
    "                }\n",
    "            }]\n",
    "        }\n",
    "    }\n",
    "]\n",
    "\n",
    "clear_output()\n",
    "pprint.pprint(list(client.mflix.movies_initial.aggregate(pipeline)))"
   ]
  }
 ],
 "metadata": {
  "kernelspec": {
   "display_name": "Python 3 (ipykernel)",
   "language": "python",
   "name": "python3"
  },
  "language_info": {
   "codemirror_mode": {
    "name": "ipython",
    "version": 3
   },
   "file_extension": ".py",
   "mimetype": "text/x-python",
   "name": "python",
   "nbconvert_exporter": "python",
   "pygments_lexer": "ipython3",
   "version": "3.9.7"
  }
 },
 "nbformat": 4,
 "nbformat_minor": 2
}
