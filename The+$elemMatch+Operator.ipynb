{
 "cells": [
  {
   "cell_type": "code",
   "execution_count": null,
   "metadata": {
    "collapsed": true
   },
   "outputs": [],
   "source": [
    "# When you put a bang (exclamation point) at the beginning of a line, everything that follows \n",
    "# will be executed in your terminal.\n",
    "#\n",
    "# In this case, we're using pip to install the dateparser module.\n",
    "# This module will help us parse datetimes from strings.\n",
    "!pip install dateparser"
   ]
  },
  {
   "cell_type": "code",
   "execution_count": null,
   "metadata": {
    "collapsed": true
   },
   "outputs": [],
   "source": [
    "import pymongo\n",
    "import pprint\n",
    "import dateparser"
   ]
  },
  {
   "cell_type": "code",
   "execution_count": null,
   "metadata": {
    "collapsed": true
   },
   "outputs": [],
   "source": [
    "# Replace XXXX with your connection URI from the Atlas UI\n",
    "course_cluster_uri = XXXX"
   ]
  },
  {
   "cell_type": "code",
   "execution_count": null,
   "metadata": {
    "collapsed": true
   },
   "outputs": [],
   "source": [
    "course_client = pymongo.MongoClient(course_cluster_uri)\n",
    "movies = course_client['mflix']['movies']"
   ]
  },
  {
   "cell_type": "code",
   "execution_count": null,
   "metadata": {
    "collapsed": true
   },
   "outputs": [],
   "source": [
    "query = {\"comments\":{\"$exists\": True}}\n",
    "projection = {\"comments\": 1}\n",
    "\n",
    "movie = movies.find_one(query, projection)\n",
    "\n",
    "pprint.pprint(movie)"
   ]
  },
  {
   "cell_type": "code",
   "execution_count": null,
   "metadata": {
    "collapsed": true
   },
   "outputs": [],
   "source": [
    "query = {\"comments.name\": \"Samwell Tarly\"}\n",
    "\n",
    "movie = movies.find_one(query, projection)\n",
    "\n",
    "pprint.pprint(movie)"
   ]
  },
  {
   "cell_type": "code",
   "execution_count": null,
   "metadata": {
    "collapsed": true
   },
   "outputs": [],
   "source": [
    "query = {\n",
    "  \"comments.name\": \"Samwell Tarly\",\n",
    "  \"comments.date\": {\n",
    "    \"$lt\": dateparser.parse(\"1995-01-01\")\n",
    "  }\n",
    "}\n",
    "\n",
    "movie = movies.find_one(query, projection)\n",
    "\n",
    "pprint.pprint(movie)"
   ]
  },
  {
   "cell_type": "code",
   "execution_count": null,
   "metadata": {
    "collapsed": true
   },
   "outputs": [],
   "source": [
    "movie = movies.find(query, projection).skip(1).limit(1)\n",
    "\n",
    "pprint.pprint(list(movie))"
   ]
  },
  {
   "cell_type": "code",
   "execution_count": null,
   "metadata": {
    "collapsed": true
   },
   "outputs": [],
   "source": [
    "betterQuery = {\n",
    "  \"comments\": {\n",
    "    \"$elemMatch\": {\n",
    "      \"name\": \"Samwell Tarly\",\n",
    "      \"date\": {\n",
    "        \"$lt\": dateparser.parse(\"1995-01-01\")\n",
    "      }\n",
    "    }\n",
    "  }\n",
    "}\n",
    "\n",
    "correctMovies = list(movies.find(betterQuery, projection).limit(2))\n",
    "\n",
    "pprint.pprint(correctMovies)"
   ]
  }
 ],
 "metadata": {
  "kernelspec": {
   "display_name": "Python 3 (ipykernel)",
   "language": "python",
   "name": "python3"
  },
  "language_info": {
   "codemirror_mode": {
    "name": "ipython",
    "version": 3
   },
   "file_extension": ".py",
   "mimetype": "text/x-python",
   "name": "python",
   "nbconvert_exporter": "python",
   "pygments_lexer": "ipython3",
   "version": "3.9.7"
  }
 },
 "nbformat": 4,
 "nbformat_minor": 2
}
