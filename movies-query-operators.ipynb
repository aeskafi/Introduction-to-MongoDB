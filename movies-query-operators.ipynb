{
 "cells": [
  {
   "cell_type": "code",
   "execution_count": null,
   "metadata": {
    "collapsed": true
   },
   "outputs": [],
   "source": [
    "import pymongo\n",
    "import pprint"
   ]
  },
  {
   "cell_type": "code",
   "execution_count": null,
   "metadata": {
    "collapsed": true
   },
   "outputs": [],
   "source": [
    "# Replace XXXX with your connection URI from the Atlas UI\n",
    "mc = pymongo.MongoClient(XXXX)\n",
    "mflix = mc['mflix']"
   ]
  },
  {
   "cell_type": "code",
   "execution_count": null,
   "metadata": {},
   "outputs": [],
   "source": [
    "# find all movies released from 1983 onwards\n",
    "filters = {'year': { '$gte': 1983 }}\n",
    "\n",
    "for movie in mflix.movies.find(filters):\n",
    "    pprint.pprint(movie['title'])"
   ]
  },
  {
   "cell_type": "code",
   "execution_count": null,
   "metadata": {},
   "outputs": [],
   "source": [
    "# find all movies between 1989 and 1999\n",
    "filters = { 'year': {'$gte': 1989, '$lt': 2000} }\n",
    "\n",
    "for movie in mflix.movies.find(filters):\n",
    "    pprint.pprint(movie['title'])"
   ]
  },
  {
   "cell_type": "code",
   "execution_count": null,
   "metadata": {},
   "outputs": [],
   "source": [
    "# find all movies released in 1995, 2005, 2015\n",
    "filters = { 'year': { '$in': [ 1995, 2005, 2015 ] } }\n",
    "for movie in mflix.movies.find(filters):\n",
    "    pprint.pprint(movie['title'])\n"
   ]
  },
  {
   "cell_type": "code",
   "execution_count": null,
   "metadata": {},
   "outputs": [],
   "source": [
    "# find all movies except the ones which are of adult genre\n",
    "filters = { 'year': { '$in': [ 1995, 2005, 2015 ] }, \n",
    "                     'genre': { '$not' : {'$eq': 'Adult'} } }\n",
    "\n",
    "for movie in mflix.movies.find(filters):\n",
    "    pprint.pprint(movie['title'])"
   ]
  }
 ],
 "metadata": {
  "kernelspec": {
   "display_name": "Python 3",
   "language": "python",
   "name": "python3"
  },
  "language_info": {
   "codemirror_mode": {
    "name": "ipython",
    "version": 3
   },
   "file_extension": ".py",
   "mimetype": "text/x-python",
   "name": "python",
   "nbconvert_exporter": "python",
   "pygments_lexer": "ipython3",
   "version": "3.6.1"
  }
 },
 "nbformat": 4,
 "nbformat_minor": 2
}
