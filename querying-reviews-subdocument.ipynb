{
 "cells": [
  {
   "cell_type": "code",
   "execution_count": null,
   "metadata": {
    "collapsed": true
   },
   "outputs": [],
   "source": [
    "import pymongo\n",
    "import pprint"
   ]
  },
  {
   "cell_type": "code",
   "execution_count": null,
   "metadata": {
    "collapsed": true
   },
   "outputs": [],
   "source": [
    "# Replace XXXX with your connection URI from the Atlas UI\n",
    "uri = XXXX\n",
    "mc = pymongo.MongoClient(uri)\n",
    "mflix = mc.mflix"
   ]
  },
  {
   "cell_type": "code",
   "execution_count": null,
   "metadata": {
    "collapsed": true
   },
   "outputs": [],
   "source": [
    "# Find `Titanic` movie\n",
    "titanic = mflix.movies.find_one({'title': 'Titanic'})\n",
    "\n",
    "pprint.pprint(titanic)"
   ]
  },
  {
   "cell_type": "code",
   "execution_count": null,
   "metadata": {
    "collapsed": true
   },
   "outputs": [],
   "source": [
    "titanic[\"tomatoes\"]"
   ]
  },
  {
   "cell_type": "code",
   "execution_count": null,
   "metadata": {
    "collapsed": true
   },
   "outputs": [],
   "source": [
    "titanic[\"tomatoes\"][\"viewer\"]"
   ]
  },
  {
   "cell_type": "code",
   "execution_count": null,
   "metadata": {
    "collapsed": true
   },
   "outputs": [],
   "source": [
    "rating = titanic[\"tomatoes\"][\"viewer\"][\"rating\"]\n",
    "rating"
   ]
  },
  {
   "cell_type": "code",
   "execution_count": null,
   "metadata": {
    "collapsed": true
   },
   "outputs": [],
   "source": [
    "# find all movies with the same viewer rating as `Titanic`\n",
    "cursor = mflix.movies.find({'tomatoes.viewer.rating': rating })\n",
    "for movie in cursor:\n",
    "    pprint.pprint(movie['title'])"
   ]
  },
  {
   "cell_type": "code",
   "execution_count": null,
   "metadata": {
    "collapsed": true
   },
   "outputs": [],
   "source": [
    "# find all movies with `Titanic` rating and sort by lastUpdated review\n",
    "cursor = mflix.movies.find({'tomatoes.viewer.rating': rating })\n",
    "cursor.sort('tomatoes.lastUpdated', pymongo.ASCENDING)\n",
    "for movie in cursor:\n",
    "    pprint.pprint( \"Title: {0}; LastUpdated: {1}\".format( movie['title'],movie['tomatoes']['lastUpdated']))\n"
   ]
  }
 ],
 "metadata": {
  "kernelspec": {
   "display_name": "Python 3",
   "language": "python",
   "name": "python3"
  },
  "language_info": {
   "codemirror_mode": {
    "name": "ipython",
    "version": 3
   },
   "file_extension": ".py",
   "mimetype": "text/x-python",
   "name": "python",
   "nbconvert_exporter": "python",
   "pygments_lexer": "ipython3",
   "version": "3.6.1"
  }
 },
 "nbformat": 4,
 "nbformat_minor": 2
}
