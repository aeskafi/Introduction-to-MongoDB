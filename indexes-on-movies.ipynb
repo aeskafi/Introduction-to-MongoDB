{
 "cells": [
  {
   "cell_type": "markdown",
   "metadata": {},
   "source": [
    "Connect to MongoDB Atlas\n",
    "------------------------"
   ]
  },
  {
   "cell_type": "code",
   "execution_count": null,
   "metadata": {
    "collapsed": true
   },
   "outputs": [],
   "source": [
    "import pymongo\n",
    "import pprint"
   ]
  },
  {
   "cell_type": "code",
   "execution_count": null,
   "metadata": {
    "collapsed": true
   },
   "outputs": [],
   "source": [
    "# Replace XXXX with your connection URI from the Atlas UI\n",
    "uri = XXXX\n",
    "mc = pymongo.MongoClient(uri)\n",
    "mflix = mc.mflix"
   ]
  },
  {
   "cell_type": "markdown",
   "metadata": {},
   "source": [
    "List Indexes\n",
    "-----------"
   ]
  },
  {
   "cell_type": "code",
   "execution_count": null,
   "metadata": {
    "collapsed": true,
    "scrolled": true
   },
   "outputs": [],
   "source": [
    "# get list of indexes on movies collection\n",
    "pprint.pprint(mflix.movies.index_information())"
   ]
  },
  {
   "cell_type": "code",
   "execution_count": null,
   "metadata": {
    "collapsed": true
   },
   "outputs": [],
   "source": [
    "pprint.pprint(mflix.movies.find_one())"
   ]
  },
  {
   "cell_type": "markdown",
   "metadata": {},
   "source": [
    "Explain a Query\n",
    "--------------"
   ]
  },
  {
   "cell_type": "code",
   "execution_count": null,
   "metadata": {
    "collapsed": true,
    "scrolled": true
   },
   "outputs": [],
   "source": [
    "explain = {\n",
    "    \"explain\": {\n",
    "        \"find\": \"movies\",\n",
    "        \"filter\": {\n",
    "            \"tomatoes.viewer.numReviews\": {\"$gt\": 10}\n",
    "        },\n",
    "    },\n",
    "    \"verbosity\": \"executionStats\"\n",
    "}\n",
    "mflix.command(explain)"
   ]
  },
  {
   "cell_type": "markdown",
   "metadata": {},
   "source": [
    "Text Search vs Exact Match\n",
    "-------------------------"
   ]
  },
  {
   "cell_type": "code",
   "execution_count": null,
   "metadata": {
    "collapsed": true
   },
   "outputs": [],
   "source": [
    "filters = {\"title\": \"Titanic\"}\n",
    "for m in mflix.movies.find(filters):\n",
    "    pprint.pprint(m['title'])"
   ]
  },
  {
   "cell_type": "code",
   "execution_count": null,
   "metadata": {
    "collapsed": true
   },
   "outputs": [],
   "source": [
    "filters = { \"$text\": { \n",
    "    \"$search\": \"titanic\"\n",
    "}} \n",
    "for m in mflix.movies.find(filters):\n",
    "    pprint.pprint(m['title'])\n",
    "    pprint.pprint(m['cast'])\n",
    "    pprint.pprint(m.get('directors', \"\"))\n",
    "    pprint.pprint(\"======\")"
   ]
  },
  {
   "cell_type": "markdown",
   "metadata": {},
   "source": [
    "Create an Index\n",
    "--------------"
   ]
  },
  {
   "cell_type": "code",
   "execution_count": null,
   "metadata": {
    "collapsed": true
   },
   "outputs": [],
   "source": [
    "mflix.movies.create_index([(\"countries\", pymongo.ASCENDING)])"
   ]
  }
 ],
 "metadata": {
  "kernelspec": {
   "display_name": "Python 3 (ipykernel)",
   "language": "python",
   "name": "python3"
  },
  "language_info": {
   "codemirror_mode": {
    "name": "ipython",
    "version": 3
   },
   "file_extension": ".py",
   "mimetype": "text/x-python",
   "name": "python",
   "nbconvert_exporter": "python",
   "pygments_lexer": "ipython3",
   "version": "3.9.7"
  }
 },
 "nbformat": 4,
 "nbformat_minor": 2
}
